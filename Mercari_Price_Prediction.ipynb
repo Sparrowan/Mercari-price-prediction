{
 "cells": [
  {
   "cell_type": "markdown",
   "metadata": {},
   "source": [
    "# Mercari Price Prediction"
   ]
  },
  {
   "cell_type": "markdown",
   "metadata": {},
   "source": [
    "Mercari is Japan's biggest community powered shopping app where people can sell and buy a variety of brand new and used products of different brands, from sweaters to smartphones. Now Mercari would like to suggest the correct prices to the sellers but this is tough because their sellers are enabled to put just about anything, or any bundle of things on Mercari's marketplace.\n",
    "So our objective is to build a model that automatically suggests the right product prices to the sellers. We are provided of the following information for each product:\n",
    "\n",
    "train_id - the id of the product\n",
    "\n",
    "name - the title of the product\n",
    "\n",
    "item_condition_id - the condition of the product provided by the sellers\n",
    "\n",
    "category_name - category of the product\n",
    "\n",
    "brand_name - the product's brand name\n",
    "\n",
    "shipping - 1 if shipping fee is paid by seller and 0 if shipping fee is paid by buyer\n",
    "\n",
    "item_description - the full description of the product\n",
    "\n",
    "price - the price that the product was sold for (This is the target variable that we will predict)\n",
    "\n",
    "This type of problem lies under the category of Supervised Regression Machine Learning:\n",
    "Supervised: We have access to both the features and the target and our goal is to train a model that can learn a mapping between the two.\n",
    "Regression: The target variable, price, is a continuous variable."
   ]
  },
  {
   "cell_type": "markdown",
   "metadata": {},
   "source": [
    "# **Exploratory Data Analysis**"
   ]
  },
  {
   "cell_type": "code",
   "execution_count": 52,
   "metadata": {},
   "outputs": [],
   "source": [
    "import numpy as np\n",
    "import pandas as pd\n",
    "import matplotlib.pyplot as plt\n",
    "import seaborn as sns\n",
    "from sklearn.model_selection import train_test_split\n",
    "import warnings\n",
    "warnings.filterwarnings('ignore')"
   ]
  },
  {
   "cell_type": "code",
   "execution_count": 53,
   "metadata": {},
   "outputs": [
    {
     "name": "stdout",
     "output_type": "stream",
     "text": [
      "(1186028, 8) (296507, 8)\n"
     ]
    }
   ],
   "source": [
    "data = pd.read_csv('train.tsv', sep='\\t')\n",
    "train, test = train_test_split(data, test_size=0.2, shuffle=False)\n",
    "print(train.shape, test.shape)"
   ]
  },
  {
   "cell_type": "code",
   "execution_count": 54,
   "metadata": {},
   "outputs": [
    {
     "data": {
      "text/html": [
       "<div>\n",
       "<style scoped>\n",
       "    .dataframe tbody tr th:only-of-type {\n",
       "        vertical-align: middle;\n",
       "    }\n",
       "\n",
       "    .dataframe tbody tr th {\n",
       "        vertical-align: top;\n",
       "    }\n",
       "\n",
       "    .dataframe thead th {\n",
       "        text-align: right;\n",
       "    }\n",
       "</style>\n",
       "<table border=\"1\" class=\"dataframe\">\n",
       "  <thead>\n",
       "    <tr style=\"text-align: right;\">\n",
       "      <th></th>\n",
       "      <th>train_id</th>\n",
       "      <th>name</th>\n",
       "      <th>item_condition_id</th>\n",
       "      <th>category_name</th>\n",
       "      <th>brand_name</th>\n",
       "      <th>price</th>\n",
       "      <th>shipping</th>\n",
       "      <th>item_description</th>\n",
       "    </tr>\n",
       "  </thead>\n",
       "  <tbody>\n",
       "    <tr>\n",
       "      <th>0</th>\n",
       "      <td>0</td>\n",
       "      <td>MLB Cincinnati Reds T Shirt Size XL</td>\n",
       "      <td>3</td>\n",
       "      <td>Men/Tops/T-shirts</td>\n",
       "      <td>NaN</td>\n",
       "      <td>10.0</td>\n",
       "      <td>1</td>\n",
       "      <td>No description yet</td>\n",
       "    </tr>\n",
       "    <tr>\n",
       "      <th>1</th>\n",
       "      <td>1</td>\n",
       "      <td>Razer BlackWidow Chroma Keyboard</td>\n",
       "      <td>3</td>\n",
       "      <td>Electronics/Computers &amp; Tablets/Components &amp; P...</td>\n",
       "      <td>Razer</td>\n",
       "      <td>52.0</td>\n",
       "      <td>0</td>\n",
       "      <td>This keyboard is in great condition and works ...</td>\n",
       "    </tr>\n",
       "    <tr>\n",
       "      <th>2</th>\n",
       "      <td>2</td>\n",
       "      <td>AVA-VIV Blouse</td>\n",
       "      <td>1</td>\n",
       "      <td>Women/Tops &amp; Blouses/Blouse</td>\n",
       "      <td>Target</td>\n",
       "      <td>10.0</td>\n",
       "      <td>1</td>\n",
       "      <td>Adorable top with a hint of lace and a key hol...</td>\n",
       "    </tr>\n",
       "    <tr>\n",
       "      <th>3</th>\n",
       "      <td>3</td>\n",
       "      <td>Leather Horse Statues</td>\n",
       "      <td>1</td>\n",
       "      <td>Home/Home Décor/Home Décor Accents</td>\n",
       "      <td>NaN</td>\n",
       "      <td>35.0</td>\n",
       "      <td>1</td>\n",
       "      <td>New with tags. Leather horses. Retail for [rm]...</td>\n",
       "    </tr>\n",
       "    <tr>\n",
       "      <th>4</th>\n",
       "      <td>4</td>\n",
       "      <td>24K GOLD plated rose</td>\n",
       "      <td>1</td>\n",
       "      <td>Women/Jewelry/Necklaces</td>\n",
       "      <td>NaN</td>\n",
       "      <td>44.0</td>\n",
       "      <td>0</td>\n",
       "      <td>Complete with certificate of authenticity</td>\n",
       "    </tr>\n",
       "  </tbody>\n",
       "</table>\n",
       "</div>"
      ],
      "text/plain": [
       "   train_id                                 name  item_condition_id  \\\n",
       "0         0  MLB Cincinnati Reds T Shirt Size XL                  3   \n",
       "1         1     Razer BlackWidow Chroma Keyboard                  3   \n",
       "2         2                       AVA-VIV Blouse                  1   \n",
       "3         3                Leather Horse Statues                  1   \n",
       "4         4                 24K GOLD plated rose                  1   \n",
       "\n",
       "                                       category_name brand_name  price  \\\n",
       "0                                  Men/Tops/T-shirts        NaN   10.0   \n",
       "1  Electronics/Computers & Tablets/Components & P...      Razer   52.0   \n",
       "2                        Women/Tops & Blouses/Blouse     Target   10.0   \n",
       "3                 Home/Home Décor/Home Décor Accents        NaN   35.0   \n",
       "4                            Women/Jewelry/Necklaces        NaN   44.0   \n",
       "\n",
       "   shipping                                   item_description  \n",
       "0         1                                 No description yet  \n",
       "1         0  This keyboard is in great condition and works ...  \n",
       "2         1  Adorable top with a hint of lace and a key hol...  \n",
       "3         1  New with tags. Leather horses. Retail for [rm]...  \n",
       "4         0          Complete with certificate of authenticity  "
      ]
     },
     "execution_count": 54,
     "metadata": {},
     "output_type": "execute_result"
    }
   ],
   "source": [
    "train.head()"
   ]
  },
  {
   "cell_type": "code",
   "execution_count": 55,
   "metadata": {},
   "outputs": [],
   "source": [
    "# Function to calculate missing values by column\n",
    "def missing_values_table(df):\n",
    "        # Total missing values\n",
    "        mis_val = df.isnull().sum()\n",
    "        \n",
    "        # Percentage of missing values\n",
    "        mis_val_percent = 100 * df.isnull().sum() / len(df)\n",
    "        \n",
    "        # Make a table with the results\n",
    "        mis_val_table = pd.concat([mis_val, mis_val_percent], axis=1)\n",
    "        \n",
    "        # Rename the columns\n",
    "        mis_val_table_ren_columns = mis_val_table.rename(\n",
    "        columns = {0 : 'Missing Values', 1 : '% of Total Values'})\n",
    "        \n",
    "        # Sort the table by percentage of missing descending\n",
    "        mis_val_table_ren_columns = mis_val_table_ren_columns[\n",
    "            mis_val_table_ren_columns.iloc[:,1] != 0].sort_values(\n",
    "        '% of Total Values', ascending=False).round(1)\n",
    "        \n",
    "        # Print some summary information\n",
    "        print (\"Your selected dataframe has \" + str(df.shape[1]) + \" columns.\\n\"      \n",
    "            \"There are \" + str(mis_val_table_ren_columns.shape[0]) +\n",
    "              \" columns that have missing values.\")\n",
    "        \n",
    "        # Return the dataframe with missing information\n",
    "        return mis_val_table_ren_columns"
   ]
  },
  {
   "cell_type": "code",
   "execution_count": 56,
   "metadata": {},
   "outputs": [
    {
     "name": "stdout",
     "output_type": "stream",
     "text": [
      "Your selected dataframe has 8 columns.\n",
      "There are 3 columns that have missing values.\n"
     ]
    },
    {
     "data": {
      "text/html": [
       "<div>\n",
       "<style scoped>\n",
       "    .dataframe tbody tr th:only-of-type {\n",
       "        vertical-align: middle;\n",
       "    }\n",
       "\n",
       "    .dataframe tbody tr th {\n",
       "        vertical-align: top;\n",
       "    }\n",
       "\n",
       "    .dataframe thead th {\n",
       "        text-align: right;\n",
       "    }\n",
       "</style>\n",
       "<table border=\"1\" class=\"dataframe\">\n",
       "  <thead>\n",
       "    <tr style=\"text-align: right;\">\n",
       "      <th></th>\n",
       "      <th>Missing Values</th>\n",
       "      <th>% of Total Values</th>\n",
       "    </tr>\n",
       "  </thead>\n",
       "  <tbody>\n",
       "    <tr>\n",
       "      <th>brand_name</th>\n",
       "      <td>632682</td>\n",
       "      <td>42.7</td>\n",
       "    </tr>\n",
       "    <tr>\n",
       "      <th>category_name</th>\n",
       "      <td>6327</td>\n",
       "      <td>0.4</td>\n",
       "    </tr>\n",
       "    <tr>\n",
       "      <th>item_description</th>\n",
       "      <td>4</td>\n",
       "      <td>0.0</td>\n",
       "    </tr>\n",
       "  </tbody>\n",
       "</table>\n",
       "</div>"
      ],
      "text/plain": [
       "                  Missing Values  % of Total Values\n",
       "brand_name                632682               42.7\n",
       "category_name               6327                0.4\n",
       "item_description               4                0.0"
      ]
     },
     "execution_count": 56,
     "metadata": {},
     "output_type": "execute_result"
    }
   ],
   "source": [
    "missing_values_table(data)"
   ]
  },
  {
   "cell_type": "code",
   "execution_count": 57,
   "metadata": {},
   "outputs": [
    {
     "name": "stdout",
     "output_type": "stream",
     "text": [
      "<class 'pandas.core.frame.DataFrame'>\n",
      "Int64Index: 1186028 entries, 0 to 1186027\n",
      "Data columns (total 8 columns):\n",
      "train_id             1186028 non-null int64\n",
      "name                 1186028 non-null object\n",
      "item_condition_id    1186028 non-null int64\n",
      "category_name        1180953 non-null object\n",
      "brand_name           679756 non-null object\n",
      "price                1186028 non-null float64\n",
      "shipping             1186028 non-null int64\n",
      "item_description     1186026 non-null object\n",
      "dtypes: float64(1), int64(3), object(4)\n",
      "memory usage: 81.4+ MB\n"
     ]
    }
   ],
   "source": [
    "train.info()"
   ]
  },
  {
   "cell_type": "markdown",
   "metadata": {},
   "source": [
    "# **Exploratory Data Analysis**\n",
    "There are a total of 8 features in this data set. The title and description of the features are follows:-"
   ]
  },
  {
   "cell_type": "code",
   "execution_count": 58,
   "metadata": {},
   "outputs": [
    {
     "name": "stdout",
     "output_type": "stream",
     "text": [
      "There are a total of 1186028 observations in the train data.\n"
     ]
    }
   ],
   "source": [
    "print('There are a total of',train.shape[0],'observations in the train data.')"
   ]
  },
  {
   "cell_type": "code",
   "execution_count": 59,
   "metadata": {},
   "outputs": [
    {
     "data": {
      "text/html": [
       "<div>\n",
       "<style scoped>\n",
       "    .dataframe tbody tr th:only-of-type {\n",
       "        vertical-align: middle;\n",
       "    }\n",
       "\n",
       "    .dataframe tbody tr th {\n",
       "        vertical-align: top;\n",
       "    }\n",
       "\n",
       "    .dataframe thead th {\n",
       "        text-align: right;\n",
       "    }\n",
       "</style>\n",
       "<table border=\"1\" class=\"dataframe\">\n",
       "  <thead>\n",
       "    <tr style=\"text-align: right;\">\n",
       "      <th></th>\n",
       "      <th>train_id</th>\n",
       "      <th>name</th>\n",
       "      <th>item_condition_id</th>\n",
       "      <th>category_name</th>\n",
       "      <th>brand_name</th>\n",
       "      <th>price</th>\n",
       "      <th>shipping</th>\n",
       "      <th>item_description</th>\n",
       "    </tr>\n",
       "  </thead>\n",
       "  <tbody>\n",
       "    <tr>\n",
       "      <th>0</th>\n",
       "      <td>0</td>\n",
       "      <td>MLB Cincinnati Reds T Shirt Size XL</td>\n",
       "      <td>3</td>\n",
       "      <td>Men/Tops/T-shirts</td>\n",
       "      <td>NaN</td>\n",
       "      <td>10.0</td>\n",
       "      <td>1</td>\n",
       "      <td>No description yet</td>\n",
       "    </tr>\n",
       "    <tr>\n",
       "      <th>1</th>\n",
       "      <td>1</td>\n",
       "      <td>Razer BlackWidow Chroma Keyboard</td>\n",
       "      <td>3</td>\n",
       "      <td>Electronics/Computers &amp; Tablets/Components &amp; P...</td>\n",
       "      <td>Razer</td>\n",
       "      <td>52.0</td>\n",
       "      <td>0</td>\n",
       "      <td>This keyboard is in great condition and works ...</td>\n",
       "    </tr>\n",
       "    <tr>\n",
       "      <th>2</th>\n",
       "      <td>2</td>\n",
       "      <td>AVA-VIV Blouse</td>\n",
       "      <td>1</td>\n",
       "      <td>Women/Tops &amp; Blouses/Blouse</td>\n",
       "      <td>Target</td>\n",
       "      <td>10.0</td>\n",
       "      <td>1</td>\n",
       "      <td>Adorable top with a hint of lace and a key hol...</td>\n",
       "    </tr>\n",
       "    <tr>\n",
       "      <th>3</th>\n",
       "      <td>3</td>\n",
       "      <td>Leather Horse Statues</td>\n",
       "      <td>1</td>\n",
       "      <td>Home/Home Décor/Home Décor Accents</td>\n",
       "      <td>NaN</td>\n",
       "      <td>35.0</td>\n",
       "      <td>1</td>\n",
       "      <td>New with tags. Leather horses. Retail for [rm]...</td>\n",
       "    </tr>\n",
       "    <tr>\n",
       "      <th>4</th>\n",
       "      <td>4</td>\n",
       "      <td>24K GOLD plated rose</td>\n",
       "      <td>1</td>\n",
       "      <td>Women/Jewelry/Necklaces</td>\n",
       "      <td>NaN</td>\n",
       "      <td>44.0</td>\n",
       "      <td>0</td>\n",
       "      <td>Complete with certificate of authenticity</td>\n",
       "    </tr>\n",
       "  </tbody>\n",
       "</table>\n",
       "</div>"
      ],
      "text/plain": [
       "   train_id                                 name  item_condition_id  \\\n",
       "0         0  MLB Cincinnati Reds T Shirt Size XL                  3   \n",
       "1         1     Razer BlackWidow Chroma Keyboard                  3   \n",
       "2         2                       AVA-VIV Blouse                  1   \n",
       "3         3                Leather Horse Statues                  1   \n",
       "4         4                 24K GOLD plated rose                  1   \n",
       "\n",
       "                                       category_name brand_name  price  \\\n",
       "0                                  Men/Tops/T-shirts        NaN   10.0   \n",
       "1  Electronics/Computers & Tablets/Components & P...      Razer   52.0   \n",
       "2                        Women/Tops & Blouses/Blouse     Target   10.0   \n",
       "3                 Home/Home Décor/Home Décor Accents        NaN   35.0   \n",
       "4                            Women/Jewelry/Necklaces        NaN   44.0   \n",
       "\n",
       "   shipping                                   item_description  \n",
       "0         1                                 No description yet  \n",
       "1         0  This keyboard is in great condition and works ...  \n",
       "2         1  Adorable top with a hint of lace and a key hol...  \n",
       "3         1  New with tags. Leather horses. Retail for [rm]...  \n",
       "4         0          Complete with certificate of authenticity  "
      ]
     },
     "execution_count": 59,
     "metadata": {},
     "output_type": "execute_result"
    }
   ],
   "source": [
    "train.head(5)"
   ]
  },
  {
   "cell_type": "markdown",
   "metadata": {},
   "source": [
    "<h2> Price </h2>\n"
   ]
  },
  {
   "cell_type": "code",
   "execution_count": 60,
   "metadata": {
    "scrolled": true
   },
   "outputs": [
    {
     "data": {
      "text/plain": [
       "count    1.186028e+06\n",
       "mean     2.672386e+01\n",
       "std      3.844205e+01\n",
       "min      0.000000e+00\n",
       "25%      1.000000e+01\n",
       "50%      1.700000e+01\n",
       "75%      2.900000e+01\n",
       "max      2.009000e+03\n",
       "Name: price, dtype: float64"
      ]
     },
     "execution_count": 60,
     "metadata": {},
     "output_type": "execute_result"
    }
   ],
   "source": [
    "train['price'].describe()"
   ]
  },
  {
   "cell_type": "code",
   "execution_count": 61,
   "metadata": {},
   "outputs": [
    {
     "data": {
      "text/plain": [
       "17.0"
      ]
     },
     "execution_count": 61,
     "metadata": {},
     "output_type": "execute_result"
    }
   ],
   "source": [
    "price_median = train['price'].median()\n",
    "price_median"
   ]
  },
  {
   "cell_type": "code",
   "execution_count": 62,
   "metadata": {},
   "outputs": [
    {
     "name": "stdout",
     "output_type": "stream",
     "text": [
      "90th percentile value is 51.0\n"
     ]
    }
   ],
   "source": [
    "price = train['price'].values\n",
    "price = np.sort(price, axis=None)\n",
    "print('{}th percentile value is {}'.format(90, price[int(len(price)*(float(90)/100))]))"
   ]
  },
  {
   "cell_type": "code",
   "execution_count": 63,
   "metadata": {
    "scrolled": true
   },
   "outputs": [
    {
     "data": {
      "image/png": "[encoded data removed]",
      "text/plain": [
       "<Figure size 720x360 with 1 Axes>"
      ]
     },
     "metadata": {
      "needs_background": "light"
     },
     "output_type": "display_data"
    }
   ],
   "source": [
    "train['price'].plot.hist(bins=50, figsize=(10,5), edgecolor='white', range=[0,500])\n",
    "plt.xlabel('Price', fontsize=15)\n",
    "plt.ylabel('Frequency', fontsize=15)\n",
    "plt.tick_params(labelsize=15)\n",
    "plt.title('Price Distribution - Training Set', fontsize=17)\n",
    "plt.show()"
   ]
  },
  {
   "cell_type": "markdown",
   "metadata": {},
   "source": [
    "Based on the the above statistics, the observations are as follows: \n",
    "\n",
    "*   The **median price** of the items is **17 dollars**.\n",
    "*   Around **90% of the items** have price around **51 dollars or below**.\n",
    "*   The **Price distribution** of the items is heavily **skewed to the right**."
   ]
  },
  {
   "cell_type": "markdown",
   "metadata": {},
   "source": [
    "<h2> Shipping </h2>"
   ]
  },
  {
   "cell_type": "code",
   "execution_count": 64,
   "metadata": {},
   "outputs": [
    {
     "data": {
      "text/plain": [
       "0    55.267667\n",
       "1    44.732333\n",
       "Name: shipping, dtype: float64"
      ]
     },
     "execution_count": 64,
     "metadata": {},
     "output_type": "execute_result"
    }
   ],
   "source": [
    "train['shipping'].value_counts(normalize=True)*100"
   ]
  },
  {
   "cell_type": "code",
   "execution_count": 65,
   "metadata": {},
   "outputs": [
    {
     "data": {
      "image/png": "[encoded data removed]",
      "text/plain": [
       "<Figure size 720x360 with 1 Axes>"
      ]
     },
     "metadata": {
      "needs_background": "light"
     },
     "output_type": "display_data"
    }
   ],
   "source": [
    "shipping_fee_by_seller = train.loc[train.shipping==1, 'price']\n",
    "shipping_fee_by_buyer = train.loc[train.shipping==0, 'price']\n",
    "\n",
    "fig, ax = plt.subplots(figsize=(10,5))\n",
    "ax.hist(shipping_fee_by_seller, color='Orange', alpha=1.0, bins=50, range=[0,100], label='Price when Seller pays Shipping')\n",
    "ax.hist(shipping_fee_by_buyer, color='Green', alpha=1.0, bins=50, range=[0,100], label='Price when Buyer pays Shipping')\n",
    "ax.set(title='Histogram Comparison', ylabel='% of Dataset in Bin')\n",
    "plt.xlabel('Price', fontsize=17)\n",
    "plt.ylabel('Frequency', fontsize=17)\n",
    "plt.title('Price Distribution by Shipping Type', fontsize=17)\n",
    "plt.tick_params(labelsize=15)\n",
    "plt.legend()\n",
    "plt.show()"
   ]
  },
  {
   "cell_type": "code",
   "execution_count": 66,
   "metadata": {},
   "outputs": [
    {
     "name": "stdout",
     "output_type": "stream",
     "text": [
      "The median price is $14.0 if seller pays shipping\n",
      "The median price is $20.0 if buyer pays shipping\n"
     ]
    }
   ],
   "source": [
    "print('The median price is ${}'.format(round(shipping_fee_by_seller.median(), 2)), 'if seller pays shipping')\n",
    "print('The median price is ${}'.format(round(shipping_fee_by_buyer.median(), 2)), 'if buyer pays shipping')"
   ]
  },
  {
   "cell_type": "markdown",
   "metadata": {},
   "source": [
    "Some observations are as follows:-\n",
    "\n",
    "*   The **shipping fee for 55%** of the **items** are **paid** by the **buyers.**\n",
    "*   Normally when **we buy products online**, we **need to pay for shipping** or delivery for products which are **below a certain price.** But **here the trend is kind of opposite** since the median price of items for which the seller pays the shipping fees is lower than the median price of the items for which the buyer pays the shipping fees.   \n",
    "\n"
   ]
  },
  {
   "cell_type": "markdown",
   "metadata": {},
   "source": [
    "<h2> Item Condition </h2>"
   ]
  },
  {
   "cell_type": "markdown",
   "metadata": {},
   "source": [
    "The 'item_condition_id' has five unique values ranging from 1 to 5. Lower the number, better the condition of the item."
   ]
  },
  {
   "cell_type": "code",
   "execution_count": 67,
   "metadata": {},
   "outputs": [
    {
     "data": {
      "text/plain": [
       "1    43.194511\n",
       "2    25.323264\n",
       "3    29.166934\n",
       "4     2.153153\n",
       "5     0.162138\n",
       "Name: item_condition_id, dtype: float64"
      ]
     },
     "execution_count": 67,
     "metadata": {},
     "output_type": "execute_result"
    }
   ],
   "source": [
    "train['item_condition_id'].value_counts(normalize=True, sort=False)*100"
   ]
  },
  {
   "cell_type": "markdown",
   "metadata": {},
   "source": [
    "43% of the items have item condition ID as 1 while only 0.16% of the items have item condition ID has 5. Let’s see how this feature relates with Price. For comparing and visualizing the relation between a categorical variable and a numerical variable, Box-Plots are very helpful. The code below is used for plotting Box-Plots."
   ]
  },
  {
   "cell_type": "code",
   "execution_count": 68,
   "metadata": {},
   "outputs": [
    {
     "data": {
      "image/png": "[encoded data removed]",
      "text/plain": [
       "<Figure size 1440x540 with 1 Axes>"
      ]
     },
     "metadata": {
      "needs_background": "light"
     },
     "output_type": "display_data"
    }
   ],
   "source": [
    "#for easier visualization, we are considering the prices from range \n",
    "price_100 = train[train['price']<100]\n",
    "\n",
    "fig, ax = plt.subplots(figsize=(20,7.5))\n",
    "sns.boxplot(x='item_condition_id', y='price', data=price_100, ax=ax)\n",
    "plt.xlabel('Item Condition', fontsize=15)\n",
    "plt.ylabel('Price', fontsize=15)\n",
    "plt.xticks(fontsize=15)\n",
    "plt.yticks(fontsize=15)\n",
    "plt.show()"
   ]
  },
  {
   "cell_type": "code",
   "execution_count": 69,
   "metadata": {},
   "outputs": [
    {
     "data": {
      "text/html": [
       "<div>\n",
       "<style scoped>\n",
       "    .dataframe tbody tr th:only-of-type {\n",
       "        vertical-align: middle;\n",
       "    }\n",
       "\n",
       "    .dataframe tbody tr th {\n",
       "        vertical-align: top;\n",
       "    }\n",
       "\n",
       "    .dataframe thead th {\n",
       "        text-align: right;\n",
       "    }\n",
       "</style>\n",
       "<table border=\"1\" class=\"dataframe\">\n",
       "  <thead>\n",
       "    <tr style=\"text-align: right;\">\n",
       "      <th></th>\n",
       "      <th>train_id</th>\n",
       "      <th>name</th>\n",
       "      <th>item_condition_id</th>\n",
       "      <th>category_name</th>\n",
       "      <th>brand_name</th>\n",
       "      <th>price</th>\n",
       "      <th>shipping</th>\n",
       "      <th>item_description</th>\n",
       "    </tr>\n",
       "  </thead>\n",
       "  <tbody>\n",
       "    <tr>\n",
       "      <th>653</th>\n",
       "      <td>653</td>\n",
       "      <td>Fossil vintage renewal purse</td>\n",
       "      <td>5</td>\n",
       "      <td>Women/Women's Handbags/Shoulder Bag</td>\n",
       "      <td>Fossil</td>\n",
       "      <td>36.0</td>\n",
       "      <td>0</td>\n",
       "      <td>No description yet</td>\n",
       "    </tr>\n",
       "    <tr>\n",
       "      <th>1027</th>\n",
       "      <td>1027</td>\n",
       "      <td>Broken necklace</td>\n",
       "      <td>5</td>\n",
       "      <td>Women/Jewelry/Necklaces</td>\n",
       "      <td>NaN</td>\n",
       "      <td>20.0</td>\n",
       "      <td>1</td>\n",
       "      <td>10k gold 18\" chain. Broken at clasp.</td>\n",
       "    </tr>\n",
       "    <tr>\n",
       "      <th>2436</th>\n",
       "      <td>2436</td>\n",
       "      <td>Gameboy advance sp ags-101 FOR PARTS</td>\n",
       "      <td>5</td>\n",
       "      <td>Other/Other/Other</td>\n",
       "      <td>NaN</td>\n",
       "      <td>24.0</td>\n",
       "      <td>0</td>\n",
       "      <td>For parts . Turns on and hold battery charge ....</td>\n",
       "    </tr>\n",
       "    <tr>\n",
       "      <th>3177</th>\n",
       "      <td>3177</td>\n",
       "      <td>guitar</td>\n",
       "      <td>5</td>\n",
       "      <td>Other/Office supplies/Electronics</td>\n",
       "      <td>NaN</td>\n",
       "      <td>23.0</td>\n",
       "      <td>1</td>\n",
       "      <td>No description yet</td>\n",
       "    </tr>\n",
       "    <tr>\n",
       "      <th>3394</th>\n",
       "      <td>3394</td>\n",
       "      <td>iPod 1st generation 80gb</td>\n",
       "      <td>5</td>\n",
       "      <td>Electronics/Computers &amp; Tablets/iPad/Tablet/eB...</td>\n",
       "      <td>Apple</td>\n",
       "      <td>20.0</td>\n",
       "      <td>1</td>\n",
       "      <td>For parts or repair</td>\n",
       "    </tr>\n",
       "    <tr>\n",
       "      <th>5055</th>\n",
       "      <td>5055</td>\n",
       "      <td>Nintendo for parts</td>\n",
       "      <td>5</td>\n",
       "      <td>Electronics/Video Games &amp; Consoles/Consoles</td>\n",
       "      <td>NaN</td>\n",
       "      <td>20.0</td>\n",
       "      <td>0</td>\n",
       "      <td>Powers on but won't play games.</td>\n",
       "    </tr>\n",
       "  </tbody>\n",
       "</table>\n",
       "</div>"
      ],
      "text/plain": [
       "      train_id                                  name  item_condition_id  \\\n",
       "653        653          Fossil vintage renewal purse                  5   \n",
       "1027      1027                       Broken necklace                  5   \n",
       "2436      2436  Gameboy advance sp ags-101 FOR PARTS                  5   \n",
       "3177      3177                                guitar                  5   \n",
       "3394      3394              iPod 1st generation 80gb                  5   \n",
       "5055      5055                    Nintendo for parts                  5   \n",
       "\n",
       "                                          category_name brand_name  price  \\\n",
       "653                 Women/Women's Handbags/Shoulder Bag     Fossil   36.0   \n",
       "1027                            Women/Jewelry/Necklaces        NaN   20.0   \n",
       "2436                                  Other/Other/Other        NaN   24.0   \n",
       "3177                  Other/Office supplies/Electronics        NaN   23.0   \n",
       "3394  Electronics/Computers & Tablets/iPad/Tablet/eB...      Apple   20.0   \n",
       "5055        Electronics/Video Games & Consoles/Consoles        NaN   20.0   \n",
       "\n",
       "      shipping                                   item_description  \n",
       "653          0                                 No description yet  \n",
       "1027         1               10k gold 18\" chain. Broken at clasp.  \n",
       "2436         0  For parts . Turns on and hold battery charge ....  \n",
       "3177         1                                 No description yet  \n",
       "3394         1                                For parts or repair  \n",
       "5055         0                    Powers on but won't play games.  "
      ]
     },
     "execution_count": 69,
     "metadata": {},
     "output_type": "execute_result"
    }
   ],
   "source": [
    "con = train[(train['item_condition_id']==5) & (train['price']>=20)]\n",
    "con.head(6)"
   ]
  },
  {
   "cell_type": "markdown",
   "metadata": {},
   "source": [
    "<h2>Category Name</h2>"
   ]
  },
  {
   "cell_type": "code",
   "execution_count": 70,
   "metadata": {
    "scrolled": true
   },
   "outputs": [
    {
     "data": {
      "text/plain": [
       "Women/Athletic Apparel/Pants, Tights, Leggings                 4.060365\n",
       "Women/Tops & Blouses/T-Shirts                                  3.134841\n",
       "Beauty/Makeup/Face                                             2.321684\n",
       "Beauty/Makeup/Lips                                             2.025398\n",
       "Electronics/Video Games & Consoles/Games                       1.798039\n",
       "Beauty/Makeup/Eyes                                             1.720390\n",
       "Electronics/Cell Phones & Accessories/Cases, Covers & Skins    1.675511\n",
       "Women/Underwear/Bras                                           1.439346\n",
       "Women/Tops & Blouses/Tank, Cami                                1.381511\n",
       "Women/Tops & Blouses/Blouse                                    1.374314\n",
       "Women/Dresses/Above Knee, Mini                                 1.356955\n",
       "Women/Jewelry/Necklaces                                        1.348572\n",
       "Women/Athletic Apparel/Shorts                                  1.328419\n",
       "Beauty/Makeup/Makeup Palettes                                  1.293447\n",
       "Women/Shoes/Boots                                              1.274394\n",
       "Name: category_name, dtype: float64"
      ]
     },
     "execution_count": 70,
     "metadata": {},
     "output_type": "execute_result"
    }
   ],
   "source": [
    "(train['category_name'].value_counts(normalize=True)*100).head(15)"
   ]
  },
  {
   "cell_type": "markdown",
   "metadata": {},
   "source": [
    "As we can see, for each item, there are three sets of categories. The categories are arranged from top to bottom with respect to the comprehensiveness. Therefore we can split the categories into three different columns. The three categories will signify main category, first subcategory and second subcategory.\n",
    "\n",
    "**As a common preprocessing practice, we will convert all the textual categorical values to lower case. The reason for doing this will be clear with the following example. Suppose there is an entry in the data and the product belonging to that entry is an iPhone 6s and the corresponding brand name belonging to that product is 'APPLE'. There is an another entry with the product iPhone 6s and the corresponding brand name given is 'Apple'. So when we featurise the data for applying the machine learning models, any featurisation technique that we will apply will consider 'APPLE' and 'Apple' has two different values eventhough they mean the same thing. So, for our model to consider these two values as one, we will convert all the textual categorical values to lower case. Effectively, 'APPLE' and 'Apple' will become 'apple' and 'apple'.**\n",
    "\n",
    "Note:- These preprocessing steps will also be carried out on the test data, so that the train and test data both remained aligned with each other."
   ]
  },
  {
   "cell_type": "code",
   "execution_count": 71,
   "metadata": {},
   "outputs": [
    {
     "data": {
      "text/plain": [
       "count                                            1180953\n",
       "unique                                              1268\n",
       "top       Women/Athletic Apparel/Pants, Tights, Leggings\n",
       "freq                                               47951\n",
       "Name: category_name, dtype: object"
      ]
     },
     "execution_count": 71,
     "metadata": {},
     "output_type": "execute_result"
    }
   ],
   "source": [
    "train['category_name'].describe()"
   ]
  },
  {
   "cell_type": "code",
   "execution_count": 72,
   "metadata": {},
   "outputs": [
    {
     "name": "stdout",
     "output_type": "stream",
     "text": [
      "There are 1268 unique main categories.\n"
     ]
    }
   ],
   "source": [
    "print(\"There are %d unique main categories.\" % train['category_name'].nunique())"
   ]
  },
  {
   "cell_type": "code",
   "execution_count": 73,
   "metadata": {},
   "outputs": [
    {
     "data": {
      "text/html": [
       "<div>\n",
       "<style scoped>\n",
       "    .dataframe tbody tr th:only-of-type {\n",
       "        vertical-align: middle;\n",
       "    }\n",
       "\n",
       "    .dataframe tbody tr th {\n",
       "        vertical-align: top;\n",
       "    }\n",
       "\n",
       "    .dataframe thead th {\n",
       "        text-align: right;\n",
       "    }\n",
       "</style>\n",
       "<table border=\"1\" class=\"dataframe\">\n",
       "  <thead>\n",
       "    <tr style=\"text-align: right;\">\n",
       "      <th></th>\n",
       "      <th>train_id</th>\n",
       "      <th>name</th>\n",
       "      <th>item_condition_id</th>\n",
       "      <th>category_name</th>\n",
       "      <th>brand_name</th>\n",
       "      <th>price</th>\n",
       "      <th>shipping</th>\n",
       "      <th>item_description</th>\n",
       "      <th>main_cat</th>\n",
       "      <th>subcat_1</th>\n",
       "      <th>subcat_2</th>\n",
       "    </tr>\n",
       "  </thead>\n",
       "  <tbody>\n",
       "    <tr>\n",
       "      <th>0</th>\n",
       "      <td>0</td>\n",
       "      <td>MLB Cincinnati Reds T Shirt Size XL</td>\n",
       "      <td>3</td>\n",
       "      <td>Men/Tops/T-shirts</td>\n",
       "      <td>NaN</td>\n",
       "      <td>10.0</td>\n",
       "      <td>1</td>\n",
       "      <td>No description yet</td>\n",
       "      <td>Men</td>\n",
       "      <td>Tops</td>\n",
       "      <td>T-shirts</td>\n",
       "    </tr>\n",
       "    <tr>\n",
       "      <th>1</th>\n",
       "      <td>1</td>\n",
       "      <td>Razer BlackWidow Chroma Keyboard</td>\n",
       "      <td>3</td>\n",
       "      <td>Electronics/Computers &amp; Tablets/Components &amp; P...</td>\n",
       "      <td>Razer</td>\n",
       "      <td>52.0</td>\n",
       "      <td>0</td>\n",
       "      <td>This keyboard is in great condition and works ...</td>\n",
       "      <td>Electronics</td>\n",
       "      <td>Computers &amp; Tablets</td>\n",
       "      <td>Components &amp; Parts</td>\n",
       "    </tr>\n",
       "    <tr>\n",
       "      <th>2</th>\n",
       "      <td>2</td>\n",
       "      <td>AVA-VIV Blouse</td>\n",
       "      <td>1</td>\n",
       "      <td>Women/Tops &amp; Blouses/Blouse</td>\n",
       "      <td>Target</td>\n",
       "      <td>10.0</td>\n",
       "      <td>1</td>\n",
       "      <td>Adorable top with a hint of lace and a key hol...</td>\n",
       "      <td>Women</td>\n",
       "      <td>Tops &amp; Blouses</td>\n",
       "      <td>Blouse</td>\n",
       "    </tr>\n",
       "    <tr>\n",
       "      <th>3</th>\n",
       "      <td>3</td>\n",
       "      <td>Leather Horse Statues</td>\n",
       "      <td>1</td>\n",
       "      <td>Home/Home Décor/Home Décor Accents</td>\n",
       "      <td>NaN</td>\n",
       "      <td>35.0</td>\n",
       "      <td>1</td>\n",
       "      <td>New with tags. Leather horses. Retail for [rm]...</td>\n",
       "      <td>Home</td>\n",
       "      <td>Home Décor</td>\n",
       "      <td>Home Décor Accents</td>\n",
       "    </tr>\n",
       "    <tr>\n",
       "      <th>4</th>\n",
       "      <td>4</td>\n",
       "      <td>24K GOLD plated rose</td>\n",
       "      <td>1</td>\n",
       "      <td>Women/Jewelry/Necklaces</td>\n",
       "      <td>NaN</td>\n",
       "      <td>44.0</td>\n",
       "      <td>0</td>\n",
       "      <td>Complete with certificate of authenticity</td>\n",
       "      <td>Women</td>\n",
       "      <td>Jewelry</td>\n",
       "      <td>Necklaces</td>\n",
       "    </tr>\n",
       "  </tbody>\n",
       "</table>\n",
       "</div>"
      ],
      "text/plain": [
       "   train_id                                 name  item_condition_id  \\\n",
       "0         0  MLB Cincinnati Reds T Shirt Size XL                  3   \n",
       "1         1     Razer BlackWidow Chroma Keyboard                  3   \n",
       "2         2                       AVA-VIV Blouse                  1   \n",
       "3         3                Leather Horse Statues                  1   \n",
       "4         4                 24K GOLD plated rose                  1   \n",
       "\n",
       "                                       category_name brand_name  price  \\\n",
       "0                                  Men/Tops/T-shirts        NaN   10.0   \n",
       "1  Electronics/Computers & Tablets/Components & P...      Razer   52.0   \n",
       "2                        Women/Tops & Blouses/Blouse     Target   10.0   \n",
       "3                 Home/Home Décor/Home Décor Accents        NaN   35.0   \n",
       "4                            Women/Jewelry/Necklaces        NaN   44.0   \n",
       "\n",
       "   shipping                                   item_description     main_cat  \\\n",
       "0         1                                 No description yet          Men   \n",
       "1         0  This keyboard is in great condition and works ...  Electronics   \n",
       "2         1  Adorable top with a hint of lace and a key hol...        Women   \n",
       "3         1  New with tags. Leather horses. Retail for [rm]...         Home   \n",
       "4         0          Complete with certificate of authenticity        Women   \n",
       "\n",
       "              subcat_1            subcat_2  \n",
       "0                 Tops            T-shirts  \n",
       "1  Computers & Tablets  Components & Parts  \n",
       "2       Tops & Blouses              Blouse  \n",
       "3           Home Décor  Home Décor Accents  \n",
       "4              Jewelry           Necklaces  "
      ]
     },
     "execution_count": 73,
     "metadata": {},
     "output_type": "execute_result"
    }
   ],
   "source": [
    "def split_cat(text):\n",
    "    try: return text.split(\"/\")\n",
    "    except: return (\"Category Unknown\", \"Category Unknown\", \"Category Unknown\")\n",
    "    \n",
    "train['main_cat'], train['subcat_1'], train['subcat_2'] = zip(*train['category_name'].apply(lambda x: split_cat(x)))\n",
    "test['main_cat'], test['subcat_1'], test['subcat_2'] = zip(*test['category_name'].apply(lambda x: split_cat(x)))\n",
    "train.head() "
   ]
  },
  {
   "cell_type": "code",
   "execution_count": 74,
   "metadata": {},
   "outputs": [],
   "source": [
    "def lowercase_categorical_features_train(feature):\n",
    "    original_list = list(train[feature].values)\n",
    "    lower_case_list = []\n",
    "    for i in original_list:\n",
    "        j=i.lower()\n",
    "        lower_case_list.append(j)\n",
    "    return lower_case_list\n",
    "  \n",
    "def lowercase_categorical_features_test(feature):\n",
    "    original_list = list(test[feature].values)\n",
    "    lower_case_list = []\n",
    "    for i in original_list:\n",
    "        j=i.lower()\n",
    "        lower_case_list.append(j)\n",
    "    return lower_case_list "
   ]
  },
  {
   "cell_type": "code",
   "execution_count": 75,
   "metadata": {},
   "outputs": [],
   "source": [
    "train['subcat_1'] = lowercase_categorical_features_train('subcat_1')\n",
    "train['subcat_2'] = lowercase_categorical_features_train('subcat_2')\n",
    "train['main_cat'] = lowercase_categorical_features_train('main_cat')\n",
    "\n",
    "test['subcat_1'] = lowercase_categorical_features_test('subcat_1')\n",
    "test['subcat_2'] = lowercase_categorical_features_test('subcat_2')\n",
    "test['main_cat'] = lowercase_categorical_features_test('main_cat')"
   ]
  },
  {
   "cell_type": "code",
   "execution_count": 76,
   "metadata": {
    "scrolled": true
   },
   "outputs": [
    {
     "name": "stdout",
     "output_type": "stream",
     "text": [
      "There are 11 unique main categories.\n",
      "There are 114 unique first sub-categories.\n",
      "There are 863 unique second sub-categories.\n"
     ]
    }
   ],
   "source": [
    "print(\"There are %d unique main categories.\" % train['main_cat'].nunique())\n",
    "print(\"There are %d unique first sub-categories.\" % train['subcat_1'].nunique())\n",
    "print(\"There are %d unique second sub-categories.\" % train['subcat_2'].nunique())"
   ]
  },
  {
   "cell_type": "markdown",
   "metadata": {},
   "source": [
    "<h3>Main Categories</h3>"
   ]
  },
  {
   "cell_type": "code",
   "execution_count": 77,
   "metadata": {},
   "outputs": [
    {
     "data": {
      "text/plain": [
       "women                     44.805350\n",
       "beauty                    14.035503\n",
       "kids                      11.561784\n",
       "electronics                8.265994\n",
       "men                        6.311740\n",
       "home                       4.595760\n",
       "vintage & collectibles     3.138374\n",
       "other                      3.065189\n",
       "handmade                   2.083340\n",
       "sports & outdoors          1.709066\n",
       "category unknown           0.427899\n",
       "Name: main_cat, dtype: float64"
      ]
     },
     "execution_count": 77,
     "metadata": {},
     "output_type": "execute_result"
    }
   ],
   "source": [
    "train['main_cat'].value_counts(normalize=True)*100"
   ]
  },
  {
   "cell_type": "code",
   "execution_count": 78,
   "metadata": {},
   "outputs": [
    {
     "data": {
      "image/png": "[encoded data removed]",
      "text/plain": [
       "<Figure size 1440x540 with 1 Axes>"
      ]
     },
     "metadata": {
      "needs_background": "light"
     },
     "output_type": "display_data"
    }
   ],
   "source": [
    "fig, ax = plt.subplots(figsize=(20,7.5))\n",
    "sns.countplot(train['main_cat'], ax=ax, order=(train['main_cat'].value_counts()).index)\n",
    "plt.xlabel('Main Categories', fontsize=15)\n",
    "plt.ylabel('Frequency', fontsize=15)\n",
    "plt.xticks(rotation=30, fontsize=15)\n",
    "plt.title('Main Categories - Frequency', fontsize=17)\n",
    "plt.show()"
   ]
  },
  {
   "cell_type": "code",
   "execution_count": 79,
   "metadata": {},
   "outputs": [
    {
     "data": {
      "text/html": [
       "<div>\n",
       "<style scoped>\n",
       "    .dataframe tbody tr th:only-of-type {\n",
       "        vertical-align: middle;\n",
       "    }\n",
       "\n",
       "    .dataframe tbody tr th {\n",
       "        vertical-align: top;\n",
       "    }\n",
       "\n",
       "    .dataframe thead th {\n",
       "        text-align: right;\n",
       "    }\n",
       "</style>\n",
       "<table border=\"1\" class=\"dataframe\">\n",
       "  <thead>\n",
       "    <tr style=\"text-align: right;\">\n",
       "      <th></th>\n",
       "      <th>price</th>\n",
       "    </tr>\n",
       "    <tr>\n",
       "      <th>main_cat</th>\n",
       "      <th></th>\n",
       "    </tr>\n",
       "  </thead>\n",
       "  <tbody>\n",
       "    <tr>\n",
       "      <th>handmade</th>\n",
       "      <td>12.0</td>\n",
       "    </tr>\n",
       "    <tr>\n",
       "      <th>kids</th>\n",
       "      <td>14.0</td>\n",
       "    </tr>\n",
       "    <tr>\n",
       "      <th>other</th>\n",
       "      <td>14.0</td>\n",
       "    </tr>\n",
       "    <tr>\n",
       "      <th>beauty</th>\n",
       "      <td>15.0</td>\n",
       "    </tr>\n",
       "    <tr>\n",
       "      <th>electronics</th>\n",
       "      <td>15.0</td>\n",
       "    </tr>\n",
       "    <tr>\n",
       "      <th>category unknown</th>\n",
       "      <td>16.0</td>\n",
       "    </tr>\n",
       "    <tr>\n",
       "      <th>sports &amp; outdoors</th>\n",
       "      <td>16.0</td>\n",
       "    </tr>\n",
       "    <tr>\n",
       "      <th>vintage &amp; collectibles</th>\n",
       "      <td>16.0</td>\n",
       "    </tr>\n",
       "    <tr>\n",
       "      <th>home</th>\n",
       "      <td>18.0</td>\n",
       "    </tr>\n",
       "    <tr>\n",
       "      <th>women</th>\n",
       "      <td>19.0</td>\n",
       "    </tr>\n",
       "    <tr>\n",
       "      <th>men</th>\n",
       "      <td>21.0</td>\n",
       "    </tr>\n",
       "  </tbody>\n",
       "</table>\n",
       "</div>"
      ],
      "text/plain": [
       "                        price\n",
       "main_cat                     \n",
       "handmade                 12.0\n",
       "kids                     14.0\n",
       "other                    14.0\n",
       "beauty                   15.0\n",
       "electronics              15.0\n",
       "category unknown         16.0\n",
       "sports & outdoors        16.0\n",
       "vintage & collectibles   16.0\n",
       "home                     18.0\n",
       "women                    19.0\n",
       "men                      21.0"
      ]
     },
     "execution_count": 79,
     "metadata": {},
     "output_type": "execute_result"
    }
   ],
   "source": [
    "main_cat = train.groupby('main_cat')\n",
    "main_cat_median = pd.DataFrame(main_cat['price'].median())\n",
    "main_cat_median = main_cat_median.sort_values(ascending=True, by='price')\n",
    "main_cat_median"
   ]
  },
  {
   "cell_type": "code",
   "execution_count": 80,
   "metadata": {},
   "outputs": [
    {
     "data": {
      "image/png": "[encoded data removed]",
      "text/plain": [
       "<Figure size 1080x864 with 1 Axes>"
      ]
     },
     "metadata": {
      "needs_background": "light"
     },
     "output_type": "display_data"
    }
   ],
   "source": [
    "plt.figure(figsize=(15,12))\n",
    "plt.barh(range(0, len(main_cat_median)), main_cat_median['price'], align='center', alpha=0.5)\n",
    "plt.yticks(range(0, len(main_cat_median)), main_cat_median.index,fontsize=20)\n",
    "plt.xticks(fontsize=15)\n",
    "plt.title('Categories sorted by median price', fontsize=25)\n",
    "plt.xlabel('Price', fontsize=25)\n",
    "plt.ylabel('Main Categories', fontsize=25)\n",
    "plt.show()"
   ]
  },
  {
   "cell_type": "markdown",
   "metadata": {},
   "source": [
    "**44.8% of the total products belong to 'Women' category followed by 'Beauty' category products which takes up around 14% of the total products while 1.7% of the products, being the minimum, belong to the 'Sports and Outdoor' category.**\n",
    "\n",
    "**The items from 'Men' category have the highest median price of 21 dolars followed by the items from 'Women' category having a median price of 19 dollars while the items from 'Handmade' category has the lowest median price of 12 dollars.**"
   ]
  },
  {
   "cell_type": "markdown",
   "metadata": {},
   "source": [
    "<h2> First Subcategory </h2>"
   ]
  },
  {
   "cell_type": "code",
   "execution_count": 81,
   "metadata": {},
   "outputs": [
    {
     "data": {
      "text/plain": [
       "athletic apparel             0.090494\n",
       "makeup                       0.084148\n",
       "tops & blouses               0.072152\n",
       "shoes                        0.067818\n",
       "jewelry                      0.041684\n",
       "toys                         0.039228\n",
       "cell phones & accessories    0.035843\n",
       "women's handbags             0.030885\n",
       "dresses                      0.030855\n",
       "women's accessories          0.028466\n",
       "Name: subcat_1, dtype: float64"
      ]
     },
     "execution_count": 81,
     "metadata": {},
     "output_type": "execute_result"
    }
   ],
   "source": [
    "train['subcat_1'].value_counts(normalize=True).head(10)"
   ]
  },
  {
   "cell_type": "code",
   "execution_count": 82,
   "metadata": {},
   "outputs": [
    {
     "data": {
      "text/html": [
       "<div>\n",
       "<style scoped>\n",
       "    .dataframe tbody tr th:only-of-type {\n",
       "        vertical-align: middle;\n",
       "    }\n",
       "\n",
       "    .dataframe tbody tr th {\n",
       "        vertical-align: top;\n",
       "    }\n",
       "\n",
       "    .dataframe thead th {\n",
       "        text-align: right;\n",
       "    }\n",
       "</style>\n",
       "<table border=\"1\" class=\"dataframe\">\n",
       "  <thead>\n",
       "    <tr style=\"text-align: right;\">\n",
       "      <th></th>\n",
       "      <th>train_id</th>\n",
       "      <th>name</th>\n",
       "      <th>item_condition_id</th>\n",
       "      <th>category_name</th>\n",
       "      <th>brand_name</th>\n",
       "      <th>price</th>\n",
       "      <th>shipping</th>\n",
       "      <th>item_description</th>\n",
       "      <th>main_cat</th>\n",
       "      <th>subcat_1</th>\n",
       "      <th>subcat_2</th>\n",
       "    </tr>\n",
       "  </thead>\n",
       "  <tbody>\n",
       "    <tr>\n",
       "      <th>442</th>\n",
       "      <td>442</td>\n",
       "      <td>Bundle for lexi</td>\n",
       "      <td>1</td>\n",
       "      <td>Handmade/Paper Goods/Sticker</td>\n",
       "      <td>NaN</td>\n",
       "      <td>7.0</td>\n",
       "      <td>1</td>\n",
       "      <td>these are handmade NEW AND IMPROVED STICKER MA...</td>\n",
       "      <td>handmade</td>\n",
       "      <td>paper goods</td>\n",
       "      <td>sticker</td>\n",
       "    </tr>\n",
       "    <tr>\n",
       "      <th>904</th>\n",
       "      <td>904</td>\n",
       "      <td>40 Thank you stickers</td>\n",
       "      <td>1</td>\n",
       "      <td>Handmade/Paper Goods/Sticker</td>\n",
       "      <td>NaN</td>\n",
       "      <td>3.0</td>\n",
       "      <td>1</td>\n",
       "      <td>20 smiley face 20 heart stickers You will rece...</td>\n",
       "      <td>handmade</td>\n",
       "      <td>paper goods</td>\n",
       "      <td>sticker</td>\n",
       "    </tr>\n",
       "    <tr>\n",
       "      <th>1127</th>\n",
       "      <td>1127</td>\n",
       "      <td>Ohio state deer antler decal</td>\n",
       "      <td>1</td>\n",
       "      <td>Handmade/Paper Goods/Sticker</td>\n",
       "      <td>NaN</td>\n",
       "      <td>7.0</td>\n",
       "      <td>0</td>\n",
       "      <td>Vinyl decal comes with high quality transfer t...</td>\n",
       "      <td>handmade</td>\n",
       "      <td>paper goods</td>\n",
       "      <td>sticker</td>\n",
       "    </tr>\n",
       "    <tr>\n",
       "      <th>1318</th>\n",
       "      <td>1318</td>\n",
       "      <td>10 Cricut Explore Pens</td>\n",
       "      <td>1</td>\n",
       "      <td>Handmade/Paper Goods/Scrapbooking</td>\n",
       "      <td>NaN</td>\n",
       "      <td>21.0</td>\n",
       "      <td>0</td>\n",
       "      <td>10 Cricut Pens- 2 packages! For Cricut Explore...</td>\n",
       "      <td>handmade</td>\n",
       "      <td>paper goods</td>\n",
       "      <td>scrapbooking</td>\n",
       "    </tr>\n",
       "    <tr>\n",
       "      <th>1329</th>\n",
       "      <td>1329</td>\n",
       "      <td>Tumblr Stickers: read description</td>\n",
       "      <td>1</td>\n",
       "      <td>Handmade/Paper Goods/Sticker</td>\n",
       "      <td>NaN</td>\n",
       "      <td>3.0</td>\n",
       "      <td>1</td>\n",
       "      <td>These are the stickers I have left besides the...</td>\n",
       "      <td>handmade</td>\n",
       "      <td>paper goods</td>\n",
       "      <td>sticker</td>\n",
       "    </tr>\n",
       "    <tr>\n",
       "      <th>1436</th>\n",
       "      <td>1436</td>\n",
       "      <td>Probably whiskey vinyl decal sticker</td>\n",
       "      <td>1</td>\n",
       "      <td>Handmade/Paper Goods/Sticker</td>\n",
       "      <td>NaN</td>\n",
       "      <td>9.0</td>\n",
       "      <td>0</td>\n",
       "      <td>The size is 3\" leave me a message on a color. ...</td>\n",
       "      <td>handmade</td>\n",
       "      <td>paper goods</td>\n",
       "      <td>sticker</td>\n",
       "    </tr>\n",
       "  </tbody>\n",
       "</table>\n",
       "</div>"
      ],
      "text/plain": [
       "      train_id                                  name  item_condition_id  \\\n",
       "442        442                       Bundle for lexi                  1   \n",
       "904        904                 40 Thank you stickers                  1   \n",
       "1127      1127          Ohio state deer antler decal                  1   \n",
       "1318      1318                10 Cricut Explore Pens                  1   \n",
       "1329      1329     Tumblr Stickers: read description                  1   \n",
       "1436      1436  Probably whiskey vinyl decal sticker                  1   \n",
       "\n",
       "                          category_name brand_name  price  shipping  \\\n",
       "442        Handmade/Paper Goods/Sticker        NaN    7.0         1   \n",
       "904        Handmade/Paper Goods/Sticker        NaN    3.0         1   \n",
       "1127       Handmade/Paper Goods/Sticker        NaN    7.0         0   \n",
       "1318  Handmade/Paper Goods/Scrapbooking        NaN   21.0         0   \n",
       "1329       Handmade/Paper Goods/Sticker        NaN    3.0         1   \n",
       "1436       Handmade/Paper Goods/Sticker        NaN    9.0         0   \n",
       "\n",
       "                                       item_description  main_cat  \\\n",
       "442   these are handmade NEW AND IMPROVED STICKER MA...  handmade   \n",
       "904   20 smiley face 20 heart stickers You will rece...  handmade   \n",
       "1127  Vinyl decal comes with high quality transfer t...  handmade   \n",
       "1318  10 Cricut Pens- 2 packages! For Cricut Explore...  handmade   \n",
       "1329  These are the stickers I have left besides the...  handmade   \n",
       "1436  The size is 3\" leave me a message on a color. ...  handmade   \n",
       "\n",
       "         subcat_1      subcat_2  \n",
       "442   paper goods       sticker  \n",
       "904   paper goods       sticker  \n",
       "1127  paper goods       sticker  \n",
       "1318  paper goods  scrapbooking  \n",
       "1329  paper goods       sticker  \n",
       "1436  paper goods       sticker  "
      ]
     },
     "execution_count": 82,
     "metadata": {},
     "output_type": "execute_result"
    }
   ],
   "source": [
    "paper = train[train['subcat_1']=='paper goods']\n",
    "paper.head(6)"
   ]
  },
  {
   "cell_type": "code",
   "execution_count": 83,
   "metadata": {},
   "outputs": [
    {
     "data": {
      "image/png": "[encoded data removed]",
      "text/plain": [
       "<Figure size 1080x864 with 1 Axes>"
      ]
     },
     "metadata": {
      "needs_background": "light"
     },
     "output_type": "display_data"
    }
   ],
   "source": [
    "x = train['subcat_1'].value_counts().index[:10]\n",
    "y = train['subcat_1'].value_counts().values[:10]\n",
    "\n",
    "plt.figure(figsize=(15,12))\n",
    "plt.barh(range(len(x),0,-1), y, align='center', alpha=0.5, color='red')\n",
    "plt.yticks(range(len(x),0,-1), x, fontsize=20)\n",
    "plt.xticks(fontsize=15)\n",
    "plt.title('Top 10 Most Popular First Subcategories', fontsize=25)\n",
    "plt.xlabel('Count', fontsize=25)\n",
    "plt.ylabel('First Subcategories', fontsize=25)\n",
    "plt.show()"
   ]
  },
  {
   "cell_type": "code",
   "execution_count": 84,
   "metadata": {},
   "outputs": [
    {
     "data": {
      "image/png": "[encoded data removed]",
      "text/plain": [
       "<Figure size 1080x864 with 1 Axes>"
      ]
     },
     "metadata": {
      "needs_background": "light"
     },
     "output_type": "display_data"
    }
   ],
   "source": [
    "subcat_1 = train.groupby('subcat_1')\n",
    "subcat_1_median = pd.DataFrame(subcat_1['price'].median())\n",
    "subcat_1_median = subcat_1_median.sort_values(ascending=True, by='price')\n",
    "subcat_1_median_top = subcat_1_median[-10:]\n",
    "subcat_1_median_bottom = subcat_1_median[0:10]\n",
    "\n",
    "plt.figure(figsize=(15,12))\n",
    "plt.barh(range(0,len(subcat_1_median_top)), subcat_1_median_top['price'], align='center', alpha=0.5, color='green')\n",
    "plt.yticks(range(0,len(subcat_1_median_top)), subcat_1_median_top.index, fontsize=20)\n",
    "plt.xticks(fontsize=15)\n",
    "plt.title('Top 10 First Subcategories sorted by median price', fontsize=25)\n",
    "plt.xlabel('Price', fontsize=25)\n",
    "plt.ylabel('First  Subcategories', fontsize=25)\n",
    "plt.show()"
   ]
  },
  {
   "cell_type": "code",
   "execution_count": 85,
   "metadata": {},
   "outputs": [
    {
     "data": {
      "image/png": "[encoded data removed]",
      "text/plain": [
       "<Figure size 1080x864 with 1 Axes>"
      ]
     },
     "metadata": {
      "needs_background": "light"
     },
     "output_type": "display_data"
    }
   ],
   "source": [
    "plt.figure(figsize=(15,12))\n",
    "plt.barh(range(len(subcat_1_median_bottom),0,-1), subcat_1_median_bottom['price'], align='center', alpha=0.5, color='blue')\n",
    "plt.yticks(range(len(subcat_1_median_bottom),0,-1),subcat_1_median_bottom.index, fontsize=20)\n",
    "plt.xticks(fontsize=15)\n",
    "plt.title('Bottom 10 First Subcategories sorted by median price', fontsize=25)\n",
    "plt.xlabel('Price', fontsize=25)\n",
    "plt.ylabel('First Subcategories', fontsize=25)\n",
    "plt.show()"
   ]
  },
  {
   "cell_type": "markdown",
   "metadata": {},
   "source": [
    "**The most popular subcategory is 'Athletic Apparel' which aligns with the previous observation that the most popular main category is 'Women' and 'Athletic Apparel' comes under both the 'Women' and 'Men' categories. 9% of the total products comes under the Athletic Apparel category.**\n",
    "\n",
    "**From the perspective of the median price of the items, the items from the subcategory of 'Computers & Tablets' have the highest median price, with the median price being 40 dollars.**\n",
    "\n",
    "**The items from the subcategory 'Paper Goods' have the lowest median price of 6 dollars. 'Paper Goods' come under the 'Handmade' category. This also validates the previous observation that the items from 'Handmade' category have the lowest median price out of all the main categories.**"
   ]
  },
  {
   "cell_type": "code",
   "execution_count": 88,
   "metadata": {},
   "outputs": [
    {
     "data": {
      "text/html": [
       "<div>\n",
       "<style scoped>\n",
       "    .dataframe tbody tr th:only-of-type {\n",
       "        vertical-align: middle;\n",
       "    }\n",
       "\n",
       "    .dataframe tbody tr th {\n",
       "        vertical-align: top;\n",
       "    }\n",
       "\n",
       "    .dataframe thead th {\n",
       "        text-align: right;\n",
       "    }\n",
       "</style>\n",
       "<table border=\"1\" class=\"dataframe\">\n",
       "  <thead>\n",
       "    <tr style=\"text-align: right;\">\n",
       "      <th></th>\n",
       "      <th>train_id</th>\n",
       "      <th>name</th>\n",
       "      <th>item_condition_id</th>\n",
       "      <th>category_name</th>\n",
       "      <th>brand_name</th>\n",
       "      <th>price</th>\n",
       "      <th>shipping</th>\n",
       "      <th>item_description</th>\n",
       "      <th>main_cat</th>\n",
       "      <th>subcat_1</th>\n",
       "      <th>subcat_2</th>\n",
       "    </tr>\n",
       "  </thead>\n",
       "  <tbody>\n",
       "    <tr>\n",
       "      <th>11730</th>\n",
       "      <td>11730</td>\n",
       "      <td>Minnie Mouse Stroller</td>\n",
       "      <td>3</td>\n",
       "      <td>Kids/Strollers/Standard</td>\n",
       "      <td>Disney</td>\n",
       "      <td>50.0</td>\n",
       "      <td>0</td>\n",
       "      <td>Good used condition The Minnie Mouse Fast Acti...</td>\n",
       "      <td>kids</td>\n",
       "      <td>strollers</td>\n",
       "      <td>standard</td>\n",
       "    </tr>\n",
       "    <tr>\n",
       "      <th>73876</th>\n",
       "      <td>73876</td>\n",
       "      <td>Baby Jogger City Premiere</td>\n",
       "      <td>1</td>\n",
       "      <td>Kids/Strollers/Standard</td>\n",
       "      <td>Baby Jogger</td>\n",
       "      <td>275.0</td>\n",
       "      <td>0</td>\n",
       "      <td>Baby Jogger City Premiere stroller new in box ...</td>\n",
       "      <td>kids</td>\n",
       "      <td>strollers</td>\n",
       "      <td>standard</td>\n",
       "    </tr>\n",
       "    <tr>\n",
       "      <th>144452</th>\n",
       "      <td>144452</td>\n",
       "      <td>Mamas and Papas Sola</td>\n",
       "      <td>3</td>\n",
       "      <td>Kids/Strollers/Standard</td>\n",
       "      <td>Mamas &amp; Papas</td>\n",
       "      <td>150.0</td>\n",
       "      <td>1</td>\n",
       "      <td>Very well taken care of stroller Has no flaws ...</td>\n",
       "      <td>kids</td>\n",
       "      <td>strollers</td>\n",
       "      <td>standard</td>\n",
       "    </tr>\n",
       "    <tr>\n",
       "      <th>380115</th>\n",
       "      <td>380115</td>\n",
       "      <td>Bugaboo bee limited edition pendleton</td>\n",
       "      <td>2</td>\n",
       "      <td>Kids/Strollers/Standard</td>\n",
       "      <td>Bugaboo</td>\n",
       "      <td>76.0</td>\n",
       "      <td>0</td>\n",
       "      <td>Very hard to find Non extendable</td>\n",
       "      <td>kids</td>\n",
       "      <td>strollers</td>\n",
       "      <td>standard</td>\n",
       "    </tr>\n",
       "    <tr>\n",
       "      <th>383116</th>\n",
       "      <td>383116</td>\n",
       "      <td>2015 uppababy vista</td>\n",
       "      <td>3</td>\n",
       "      <td>Kids/Strollers/Standard</td>\n",
       "      <td>UPPAbaby</td>\n",
       "      <td>480.0</td>\n",
       "      <td>1</td>\n",
       "      <td>Good used condition, 2015 uppababy vista in si...</td>\n",
       "      <td>kids</td>\n",
       "      <td>strollers</td>\n",
       "      <td>standard</td>\n",
       "    </tr>\n",
       "    <tr>\n",
       "      <th>427316</th>\n",
       "      <td>427316</td>\n",
       "      <td>Mama and papa Urbo 2 stroller</td>\n",
       "      <td>3</td>\n",
       "      <td>Kids/Strollers/Standard</td>\n",
       "      <td>Mamas &amp; Papas</td>\n",
       "      <td>230.0</td>\n",
       "      <td>0</td>\n",
       "      <td>Mamas and papas stroller retails 599.00 plus tax</td>\n",
       "      <td>kids</td>\n",
       "      <td>strollers</td>\n",
       "      <td>standard</td>\n",
       "    </tr>\n",
       "    <tr>\n",
       "      <th>446858</th>\n",
       "      <td>446858</td>\n",
       "      <td>Orbit Baby G3 Black Stroller Seat-NEW</td>\n",
       "      <td>1</td>\n",
       "      <td>Kids/Strollers/Standard</td>\n",
       "      <td>Orbit Baby</td>\n",
       "      <td>145.0</td>\n",
       "      <td>0</td>\n",
       "      <td>Seat only New in box</td>\n",
       "      <td>kids</td>\n",
       "      <td>strollers</td>\n",
       "      <td>standard</td>\n",
       "    </tr>\n",
       "    <tr>\n",
       "      <th>452110</th>\n",
       "      <td>452110</td>\n",
       "      <td>UppaBaby Jake Bassinet New Model</td>\n",
       "      <td>2</td>\n",
       "      <td>Kids/Strollers/Standard</td>\n",
       "      <td>UPPAbaby</td>\n",
       "      <td>70.0</td>\n",
       "      <td>1</td>\n",
       "      <td>Uppababy Jake Bassinet for strollers 2015 and ...</td>\n",
       "      <td>kids</td>\n",
       "      <td>strollers</td>\n",
       "      <td>standard</td>\n",
       "    </tr>\n",
       "    <tr>\n",
       "      <th>769140</th>\n",
       "      <td>769140</td>\n",
       "      <td>G2 Orbit Baby Stroller Seat</td>\n",
       "      <td>2</td>\n",
       "      <td>Kids/Strollers/Standard</td>\n",
       "      <td>NaN</td>\n",
       "      <td>65.0</td>\n",
       "      <td>0</td>\n",
       "      <td>Used good condition</td>\n",
       "      <td>kids</td>\n",
       "      <td>strollers</td>\n",
       "      <td>standard</td>\n",
       "    </tr>\n",
       "    <tr>\n",
       "      <th>894690</th>\n",
       "      <td>894690</td>\n",
       "      <td>HOLD for LESLIE Nuna IVVI Stroller</td>\n",
       "      <td>3</td>\n",
       "      <td>Kids/Strollers/Standard</td>\n",
       "      <td>NaN</td>\n",
       "      <td>315.0</td>\n",
       "      <td>0</td>\n",
       "      <td>Very good condition. There's some crashes on t...</td>\n",
       "      <td>kids</td>\n",
       "      <td>strollers</td>\n",
       "      <td>standard</td>\n",
       "    </tr>\n",
       "    <tr>\n",
       "      <th>1078709</th>\n",
       "      <td>1078709</td>\n",
       "      <td>BugabooBee3</td>\n",
       "      <td>3</td>\n",
       "      <td>Kids/Strollers/Standard</td>\n",
       "      <td>Bugaboo</td>\n",
       "      <td>270.0</td>\n",
       "      <td>1</td>\n",
       "      <td>Aluminum Frame, Black Fabric BugabooBee3 Manuf...</td>\n",
       "      <td>kids</td>\n",
       "      <td>strollers</td>\n",
       "      <td>standard</td>\n",
       "    </tr>\n",
       "    <tr>\n",
       "      <th>1096059</th>\n",
       "      <td>1096059</td>\n",
       "      <td>baby jogger city premier wheels set NEW</td>\n",
       "      <td>1</td>\n",
       "      <td>Kids/Strollers/Standard</td>\n",
       "      <td>Baby Jogger</td>\n",
       "      <td>44.0</td>\n",
       "      <td>0</td>\n",
       "      <td>baby jogger city premier stroller wheels, NEW,...</td>\n",
       "      <td>kids</td>\n",
       "      <td>strollers</td>\n",
       "      <td>standard</td>\n",
       "    </tr>\n",
       "    <tr>\n",
       "      <th>1108418</th>\n",
       "      <td>1108418</td>\n",
       "      <td>Nuna Mixx Mykonos Stroller</td>\n",
       "      <td>3</td>\n",
       "      <td>Kids/Strollers/Standard</td>\n",
       "      <td>NaN</td>\n",
       "      <td>240.0</td>\n",
       "      <td>0</td>\n",
       "      <td>Excellent stroller! All fabrics are freshly wa...</td>\n",
       "      <td>kids</td>\n",
       "      <td>strollers</td>\n",
       "      <td>standard</td>\n",
       "    </tr>\n",
       "  </tbody>\n",
       "</table>\n",
       "</div>"
      ],
      "text/plain": [
       "         train_id                                     name  item_condition_id  \\\n",
       "11730       11730                    Minnie Mouse Stroller                  3   \n",
       "73876       73876                Baby Jogger City Premiere                  1   \n",
       "144452     144452                     Mamas and Papas Sola                  3   \n",
       "380115     380115    Bugaboo bee limited edition pendleton                  2   \n",
       "383116     383116                      2015 uppababy vista                  3   \n",
       "427316     427316            Mama and papa Urbo 2 stroller                  3   \n",
       "446858     446858    Orbit Baby G3 Black Stroller Seat-NEW                  1   \n",
       "452110     452110         UppaBaby Jake Bassinet New Model                  2   \n",
       "769140     769140              G2 Orbit Baby Stroller Seat                  2   \n",
       "894690     894690       HOLD for LESLIE Nuna IVVI Stroller                  3   \n",
       "1078709   1078709                              BugabooBee3                  3   \n",
       "1096059   1096059  baby jogger city premier wheels set NEW                  1   \n",
       "1108418   1108418               Nuna Mixx Mykonos Stroller                  3   \n",
       "\n",
       "                   category_name     brand_name  price  shipping  \\\n",
       "11730    Kids/Strollers/Standard         Disney   50.0         0   \n",
       "73876    Kids/Strollers/Standard    Baby Jogger  275.0         0   \n",
       "144452   Kids/Strollers/Standard  Mamas & Papas  150.0         1   \n",
       "380115   Kids/Strollers/Standard        Bugaboo   76.0         0   \n",
       "383116   Kids/Strollers/Standard       UPPAbaby  480.0         1   \n",
       "427316   Kids/Strollers/Standard  Mamas & Papas  230.0         0   \n",
       "446858   Kids/Strollers/Standard     Orbit Baby  145.0         0   \n",
       "452110   Kids/Strollers/Standard       UPPAbaby   70.0         1   \n",
       "769140   Kids/Strollers/Standard            NaN   65.0         0   \n",
       "894690   Kids/Strollers/Standard            NaN  315.0         0   \n",
       "1078709  Kids/Strollers/Standard        Bugaboo  270.0         1   \n",
       "1096059  Kids/Strollers/Standard    Baby Jogger   44.0         0   \n",
       "1108418  Kids/Strollers/Standard            NaN  240.0         0   \n",
       "\n",
       "                                          item_description main_cat  \\\n",
       "11730    Good used condition The Minnie Mouse Fast Acti...     kids   \n",
       "73876    Baby Jogger City Premiere stroller new in box ...     kids   \n",
       "144452   Very well taken care of stroller Has no flaws ...     kids   \n",
       "380115                    Very hard to find Non extendable     kids   \n",
       "383116   Good used condition, 2015 uppababy vista in si...     kids   \n",
       "427316    Mamas and papas stroller retails 599.00 plus tax     kids   \n",
       "446858                                Seat only New in box     kids   \n",
       "452110   Uppababy Jake Bassinet for strollers 2015 and ...     kids   \n",
       "769140                                 Used good condition     kids   \n",
       "894690   Very good condition. There's some crashes on t...     kids   \n",
       "1078709  Aluminum Frame, Black Fabric BugabooBee3 Manuf...     kids   \n",
       "1096059  baby jogger city premier stroller wheels, NEW,...     kids   \n",
       "1108418  Excellent stroller! All fabrics are freshly wa...     kids   \n",
       "\n",
       "          subcat_1  subcat_2  \n",
       "11730    strollers  standard  \n",
       "73876    strollers  standard  \n",
       "144452   strollers  standard  \n",
       "380115   strollers  standard  \n",
       "383116   strollers  standard  \n",
       "427316   strollers  standard  \n",
       "446858   strollers  standard  \n",
       "452110   strollers  standard  \n",
       "769140   strollers  standard  \n",
       "894690   strollers  standard  \n",
       "1078709  strollers  standard  \n",
       "1096059  strollers  standard  \n",
       "1108418  strollers  standard  "
      ]
     },
     "execution_count": 88,
     "metadata": {},
     "output_type": "execute_result"
    }
   ],
   "source": [
    "stand = train[train['subcat_2']=='standard']\n",
    "stand"
   ]
  },
  {
   "cell_type": "code",
   "execution_count": null,
   "metadata": {},
   "outputs": [],
   "source": []
  }
 ],
 "metadata": {
  "kernelspec": {
   "display_name": "Python 3",
   "language": "python",
   "name": "python3"
  },
  "language_info": {
   "codemirror_mode": {
    "name": "ipython",
    "version": 3
   },
   "file_extension": ".py",
   "mimetype": "text/x-python",
   "name": "python",
   "nbconvert_exporter": "python",
   "pygments_lexer": "ipython3",
   "version": "3.7.1"
  }
 },
 "nbformat": 4,
 "nbformat_minor": 2
}
